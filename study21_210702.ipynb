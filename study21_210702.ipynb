{
 "cells": [
  {
   "cell_type": "markdown",
   "metadata": {},
   "source": [
    "###### 출처:https://ellun.tistory.com/320"
   ]
  },
  {
   "cell_type": "markdown",
   "metadata": {},
   "source": [
    "# 날짜 데이터 정리"
   ]
  },
  {
   "cell_type": "code",
   "execution_count": null,
   "metadata": {},
   "outputs": [],
   "source": [
    "import pandas as pd print(pd.Timestamp(2020, 7, 21)) \n",
    "# 2020-07-21 00:00:00 \n",
    "\n",
    "print(pd.Timestamp(year=2020, month=7, day=21, hour=12)) \n",
    "# 2020-07-21 12:00:00 \n",
    "\n",
    "#1-2. 날짜 데이터 정의 - 숫자- numpy \n",
    "import numpy as np print(np.datetime64(2020, 7, 21)) \n",
    "# TypeError: function takes at most 2 arguments (3 given) \n",
    "\n",
    "#1-3. 날짜 데이터 정의 - 숫자 - python \n",
    "import datetime print(datetime.date(2020, 7, 21)) \n",
    "# 2020-07-21 \n",
    "\n",
    "print(datetime.datetime(2020, 7, 21, 15, 12, 40)) \n",
    "# 2020-07-21 15:12:40"
   ]
  },
  {
   "cell_type": "code",
   "execution_count": null,
   "metadata": {},
   "outputs": [],
   "source": [
    "#2-1. 날짜 텍스트 → 날짜 변환(스칼라값)- pandas \n",
    "import pandas as pd print(pd.to_datetime('2020-07-21')) \n",
    "# 2020-07-21 00:00:00 \n",
    "\n",
    "print(pd.to_datetime('07-21-2020')) \n",
    "# 2020-07-21 00:00:00 \n",
    "\n",
    "print(pd.to_datetime('2020/07/21')) \n",
    "# 2020-07-21 00:00:00 \n",
    "\n",
    "print(pd.to_datetime('07/21/2020')) \n",
    "# 2020-07-21 00:00:00 \n",
    "\n",
    "#2-2. 날짜 텍스트 → 날짜 변환(스칼라값)- numpy \n",
    "import numpy as np print(np.datetime64('2020-07-21')) \n",
    "# 2020-07-21 \n",
    "\n",
    "print(np.datetime64('07-21-2020')) \n",
    "# ValueError: Month out of range in datetime string \"07-21-2020\" \n",
    "\n",
    "print(np.datetime64('2020/07/21')) \n",
    "# ValueError: Error parsing datetime string \"2020/07/21\" at position 4 \n",
    "\n",
    "print(np.datetime64('07/21/2020')) \n",
    "# ValueError: Error parsing datetime string \"07/21/2020\" at position 2 \n",
    "\n",
    "#2-3. 날짜 텍스트 → 날짜 변환(스칼라값) - python \n",
    "import datetime print(datetime.date.fromisoformat('2020-07-21')) \n",
    "# 2020-07-21 \n",
    "\n",
    "print(datetime.datetime.fromisoformat('2020-07-21')) \n",
    "# 2020-07-21 00:00:00 \n",
    "\n",
    "print(datetime.time.fromisoformat('07:01:45')) \n",
    "# 07:01:45"
   ]
  }
 ],
 "metadata": {
  "kernelspec": {
   "display_name": "Python 3",
   "language": "python",
   "name": "python3"
  },
  "language_info": {
   "codemirror_mode": {
    "name": "ipython",
    "version": 3
   },
   "file_extension": ".py",
   "mimetype": "text/x-python",
   "name": "python",
   "nbconvert_exporter": "python",
   "pygments_lexer": "ipython3",
   "version": "3.8.5"
  }
 },
 "nbformat": 4,
 "nbformat_minor": 4
}
