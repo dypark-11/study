{
 "cells": [
  {
   "cell_type": "markdown",
   "metadata": {},
   "source": [
    "###### 출처: https://www.tensorflow.org/tutorials/quickstart/beginner?hl=ko"
   ]
  },
  {
   "cell_type": "markdown",
   "metadata": {},
   "source": [
    "# 통합 그래디언트"
   ]
  },
  {
   "cell_type": "code",
   "execution_count": null,
   "metadata": {},
   "outputs": [],
   "source": [
    "import matplotlib.pylab as plt\n",
    "import numpy as np\n",
    "import tensorflow as tf\n",
    "import tensorflow_hub as hub"
   ]
  },
  {
   "cell_type": "code",
   "execution_count": null,
   "metadata": {},
   "outputs": [],
   "source": [
    "model = tf.keras.Sequential([\n",
    "                             hub.KerasLayer(name='inception_v1', \n",
    "                                            handle='https://tfhub.dev/google/imagenet/inception_v1/classification/4', \n",
    "                                            trainable=False),\n",
    "                             ])\n",
    "model.build([None, 224, 224, 3])\n",
    "model.summary()"
   ]
  },
  {
   "cell_type": "code",
   "execution_count": null,
   "metadata": {},
   "outputs": [],
   "source": [
    "def load_imagenet_labels(file_path):\n",
    "    labels_file = tf.keras.utils.get_file('ImageNetLabels.txt', file_path)\n",
    "    with open(labels_file) as reader:\n",
    "        f = reader.read()\n",
    "        labels = f.splitlines()\n",
    "    return np.array(labels)"
   ]
  },
  {
   "cell_type": "code",
   "execution_count": null,
   "metadata": {},
   "outputs": [],
   "source": [
    "imagenet_labels = load_imagenet_labels('https://storage.googleapis.com/download.tensorflow.org/data/ImageNetLabels.txt')"
   ]
  },
  {
   "cell_type": "code",
   "execution_count": null,
   "metadata": {},
   "outputs": [],
   "source": [
    "def read_image(file_name):\n",
    "    image = tf.io.read_file(file_name)\n",
    "    image = tf.image.decode_jpeg(image, channels=3)\n",
    "    image = tf.image.convert_image_dtype(image, tf.float32)\n",
    "    image = tf.image.resize_with_pad(image, target_height=224, target_width=224)\n",
    "    return image"
   ]
  },
  {
   "cell_type": "code",
   "execution_count": null,
   "metadata": {},
   "outputs": [],
   "source": [
    "img_url = {\n",
    "    'Fireboat': 'http://storage.googleapis.com/download.tensorflow.org/example_images/San_Francisco_fireboat_showing_off.jpg',\n",
    "    'Giant Panda': 'http://storage.googleapis.com/download.tensorflow.org/example_images/Giant_Panda_2.jpeg',\n",
    "}\n",
    "\n",
    "img_paths = {name: tf.keras.utils.get_file(name, url) for (name, url) in img_url.items()}\n",
    "img_name_tensors = {name: read_image(img_path) for (name, img_path) in img_paths.items()}"
   ]
  },
  {
   "cell_type": "code",
   "execution_count": null,
   "metadata": {},
   "outputs": [],
   "source": [
    "plt.figure(figsize=(8, 8))\n",
    "for n, (name, img_tensors) in enumerate(img_name_tensors.items()):\n",
    "    ax = plt.subplot(1, 2, n+1)\n",
    "    ax.imshow(img_tensors)\n",
    "    ax.set_title(name)\n",
    "    ax.axis('off')\n",
    "plt.tight_layout()"
   ]
  },
  {
   "cell_type": "code",
   "execution_count": null,
   "metadata": {},
   "outputs": [],
   "source": [
    "def top_k_predictions(img, k=3):\n",
    "    image_batch = tf.expand_dims(img, 0)\n",
    "    predictions = model(image_batch)\n",
    "    probs = tf.nn.softmax(predictions, axis=-1)\n",
    "    top_probs, top_idxs = tf.math.top_k(input=probs, k=k)\n",
    "    top_labels = imagenet_labels[tuple(top_idxs)]\n",
    "    return top_labels, top_probs[0]"
   ]
  },
  {
   "cell_type": "code",
   "execution_count": null,
   "metadata": {},
   "outputs": [],
   "source": [
    "for (name, img_tensor) in img_name_tensors.items():\n",
    "    plt.imshow(img_tensor)\n",
    "    plt.title(name, fontweight='bold')\n",
    "    plt.axis('off')\n",
    "    plt.show()\n",
    "\n",
    "    pred_label, pred_prob = top_k_predictions(img_tensor)\n",
    "    for label, prob in zip(pred_label, pred_prob):\n",
    "        print(f'{label}: {prob:0.1%}')"
   ]
  },
  {
   "cell_type": "code",
   "execution_count": null,
   "metadata": {},
   "outputs": [],
   "source": [
    "def f(x):\n",
    "  \"\"\"A simplified model function.\"\"\"\n",
    "  return tf.where(x < 0.8, x, 0.8)\n",
    "\n",
    "def interpolated_path(x):\n",
    "  \"\"\"A straight line path.\"\"\"\n",
    "  return tf.zeros_like(x)\n",
    "\n",
    "x = tf.linspace(start=0.0, stop=1.0, num=6)\n",
    "y = f(x)"
   ]
  },
  {
   "cell_type": "code",
   "execution_count": null,
   "metadata": {},
   "outputs": [],
   "source": [
    "fig = plt.figure(figsize=(12, 5))\n",
    "ax0 = fig.add_subplot(121)\n",
    "ax0.plot(x, f(x), marker='o')\n",
    "ax0.set_title('Gradients saturate over F(x)', fontweight='bold')\n",
    "ax0.text(0.2, 0.5, 'Gradients > 0 = \\n x is important')\n",
    "ax0.text(0.7, 0.85, 'Gradients = 0 \\n x not important')\n",
    "ax0.set_yticks(tf.range(0, 1.5, 0.5))\n",
    "ax0.set_xticks(tf.range(0, 1.5, 0.5))\n",
    "ax0.set_ylabel('F(x) - model true class predicted probability')\n",
    "ax0.set_xlabel('x - (pixel value)')\n",
    "\n",
    "ax1 = fig.add_subplot(122)\n",
    "ax1.plot(x, f(x), marker='o')\n",
    "ax1.plot(x, interpolated_path(x), marker='>')\n",
    "ax1.set_title('IG intuition', fontweight='bold')\n",
    "ax1.text(0.25, 0.1, 'Accumulate gradients along path')\n",
    "ax1.set_ylabel('F(x) - model true class predicted probability')\n",
    "ax1.set_xlabel('x - (pixel value)')\n",
    "ax1.set_yticks(tf.range(0, 1.5, 0.5))\n",
    "ax1.set_xticks(tf.range(0, 1.5, 0.5))\n",
    "ax1.annotate('Baseline', xy=(0.0, 0.0), xytext=(0.0, 0.2),\n",
    "             arrowprops=dict(facecolor='black', shrink=0.1))\n",
    "ax1.annotate('Input', xy=(1.0, 0.0), xytext=(0.95, 0.2),\n",
    "             arrowprops=dict(facecolor='black', shrink=0.1))\n",
    "plt.show();"
   ]
  },
  {
   "cell_type": "code",
   "execution_count": null,
   "metadata": {},
   "outputs": [],
   "source": [
    "baseline = tf.zeros(shape=(224,224,3))"
   ]
  },
  {
   "cell_type": "code",
   "execution_count": null,
   "metadata": {},
   "outputs": [],
   "source": [
    "plt.imshow(baseline)\n",
    "plt.title(\"Baseline\")\n",
    "plt.axis('off')\n",
    "plt.show()"
   ]
  },
  {
   "cell_type": "code",
   "execution_count": null,
   "metadata": {},
   "outputs": [],
   "source": [
    "alphas = tf.linspace(start=0.0, stop=1.0, num=51)"
   ]
  },
  {
   "cell_type": "code",
   "execution_count": null,
   "metadata": {},
   "outputs": [],
   "source": [
    "def interpolate_images(baseline,\n",
    "                       image,\n",
    "                       alphas):\n",
    "    alphas_x = alphas[:, tf.newaxis, tf.newaxis, tf.newaxis]\n",
    "    baseline_x = tf.expand_dims(baseline, axis=0)\n",
    "    input_x = tf.expand_dims(image, axis=0)\n",
    "    delta = input_x - baseline_x\n",
    "    images = baseline_x +  alphas_x * delta\n",
    "    return images"
   ]
  },
  {
   "cell_type": "code",
   "execution_count": null,
   "metadata": {},
   "outputs": [],
   "source": [
    "interpolated_images = interpolate_images(\n",
    "    baseline=baseline,\n",
    "    image=img_name_tensors['Fireboat'],\n",
    "    alphas=alphas)"
   ]
  },
  {
   "cell_type": "code",
   "execution_count": null,
   "metadata": {},
   "outputs": [],
   "source": [
    "fig = plt.figure(figsize=(20, 20))\n",
    "\n",
    "i = 0\n",
    "for alpha, image in zip(alphas[0::10], interpolated_images[0::10]):\n",
    "    i += 1\n",
    "    plt.subplot(1, len(alphas[0::10]), i)\n",
    "    plt.title(f'alpha: {alpha:.1f}')\n",
    "    plt.imshow(image)\n",
    "    plt.axis('off')\n",
    "\n",
    "plt.tight_layout();"
   ]
  },
  {
   "cell_type": "code",
   "execution_count": null,
   "metadata": {},
   "outputs": [],
   "source": [
    "def compute_gradients(images, target_class_idx):\n",
    "    with tf.GradientTape() as tape:\n",
    "        tape.watch(images)\n",
    "        logits = model(images)\n",
    "        probs = tf.nn.softmax(logits, axis=-1)[:, target_class_idx]\n",
    "    return tape.gradient(probs, images)"
   ]
  },
  {
   "cell_type": "code",
   "execution_count": null,
   "metadata": {},
   "outputs": [],
   "source": [
    "path_gradients = compute_gradients(\n",
    "    images=interpolated_images,\n",
    "    target_class_idx=tf.constant(555))"
   ]
  }
 ],
 "metadata": {
  "kernelspec": {
   "display_name": "Python 3",
   "language": "python",
   "name": "python3"
  },
  "language_info": {
   "codemirror_mode": {
    "name": "ipython",
    "version": 3
   },
   "file_extension": ".py",
   "mimetype": "text/x-python",
   "name": "python",
   "nbconvert_exporter": "python",
   "pygments_lexer": "ipython3",
   "version": "3.8.5"
  }
 },
 "nbformat": 4,
 "nbformat_minor": 4
}
