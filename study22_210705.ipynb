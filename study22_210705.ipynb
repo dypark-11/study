{
 "cells": [
  {
   "cell_type": "code",
   "execution_count": null,
   "metadata": {},
   "outputs": [],
   "source": [
    "from scipy.stats import boxcox\n",
    "from scipy.special import inv_boxcox\n",
    "\n",
    "plt.figure()\n",
    "plt.title('registered vehicles')\n",
    "train['registered_vehicles'].hist()\n",
    "\n",
    "y,train_fitted_lambda= boxcox(train['registered_vehicles'],lmbda=None)\n",
    "\n",
    "plt.figure()\n",
    "plt.title('box cox transformation of registered vehicles')\n",
    "sns.distplot(y)\n",
    "print(train_fitted_lambda)\n",
    "\n",
    "plt.figure()\n",
    "plt.title('sqrt transformation of registered vehicles')\n",
    "np.sqrt(train['registered_vehicles']).hist()"
   ]
  },
  {
   "cell_type": "markdown",
   "metadata": {},
   "source": [
    "box-cox변환"
   ]
  },
  {
   "cell_type": "code",
   "execution_count": null,
   "metadata": {},
   "outputs": [],
   "source": [
    "model = XGBRegressor(tree_method='gpu_hist')\n",
    "\n",
    "param_lst = {\n",
    "    'learning_rate' : [0.01, 0.1, 0.15, 0.3, 0.5],\n",
    "    'n_estimators' : [100,200],\n",
    "    'max_depth' : [3, 6, 9],\n",
    "    'min_child_weight' : [1, 5, 10, 20],\n",
    "    'reg_alpha' : [0.001, 0.01, 0.1],\n",
    "    'reg_lambda' : [0.001, 0.01, 0.1]\n",
    "}\n",
    "\n",
    "xgb_reg = RandomizedSearchCV(estimator = model, param_distributions = param_lst,\n",
    "                              n_iter = 20, scoring = 'neg_mean_absolute_error',\n",
    "                              cv = 5)\n",
    "       \n",
    "xgb_search = xgb_reg.fit(encoded_train_scaled, Y)\n",
    "\n",
    "# XGB with tune hyperparameters\n",
    "best_param = xgb_search.best_params_\n",
    "model = XGBRegressor(**best_param)\n",
    "print(best_param)"
   ]
  },
  {
   "cell_type": "code",
   "execution_count": null,
   "metadata": {},
   "outputs": [],
   "source": [
    "kwargs={'reg_lambda':0.1, 'reg_alpha':0.01, 'n_estimators': 100, 'min_child_weight': 1, 'max_depth': 3, 'learning_rate': 0.15}\n",
    "\n",
    "model = XGBRegressor(tree_method='gpu_hist'\n",
    "                     )\n",
    "model.set_params(**kwargs)\n",
    "cv = RepeatedKFold(n_splits=10, n_repeats=3, random_state=1)\n",
    "# evaluate model\n",
    "scores = cross_val_score(model,encoded_train_scaled, Y, scoring='neg_mean_absolute_error', cv=cv, n_jobs=-1)\n",
    "scores = absolute(scores)\n",
    "print('Mean MAE: %.3f (%.3f)' % (scores.mean(), scores.std()) )\n",
    "model.fit(encoded_train_scaled, Y, eval_metric=['mae'])\n",
    "y_pred = model.predict(encoded_test_scaled)\n",
    "\n",
    "# reverse transformation\n",
    "y_pred =inv_boxcox(y_pred, fitted_lambda)\n",
    "\n",
    "# summarize prediction\n",
    "predictions = [int(value) for value in y_pred]"
   ]
  }
 ],
 "metadata": {
  "kernelspec": {
   "display_name": "Python 3",
   "language": "python",
   "name": "python3"
  },
  "language_info": {
   "codemirror_mode": {
    "name": "ipython",
    "version": 3
   },
   "file_extension": ".py",
   "mimetype": "text/x-python",
   "name": "python",
   "nbconvert_exporter": "python",
   "pygments_lexer": "ipython3",
   "version": "3.8.5"
  }
 },
 "nbformat": 4,
 "nbformat_minor": 4
}
